{
 "cells": [
  {
   "cell_type": "code",
   "execution_count": 15,
   "metadata": {},
   "outputs": [],
   "source": [
    "# Select the communes in the Petite Couronne (92,93,94,75)\n",
    "# Ignore and replace Communes_PC.json with Communes_IDF.json the second cell\n",
    "\n",
    "import numpy as np \n",
    "import pandas as pd \n",
    "import geopandas as gpd \n",
    "import branca.colormap as cm\n",
    "import folium \n",
    "import datetime\n",
    "import json\n",
    "\n",
    "with open('Communes_IDF.json','r') as data_file:\n",
    "    data = json.load(data_file)\n",
    "    \n",
    "to_delete = []\n",
    "for feature in data['features']:\n",
    "    if not (feature['properties']['C_INSEE']//1000) in [92,93,94,75]:\n",
    "        to_delete.append(feature)\n",
    "    \n",
    "for feature in to_delete:\n",
    "    data['features'].remove(feature)\n",
    "        \n",
    "with open('Communes_PC.json','w') as data_file:\n",
    "    json.dump(data,data_file)"
   ]
  },
  {
   "cell_type": "code",
   "execution_count": 16,
   "metadata": {},
   "outputs": [],
   "source": [
    "# Generates a gradient map based on the accessibility data\n",
    "\n",
    "import folium\n",
    "from folium.plugins import TimestampedGeoJson, TimeSliderChoropleth\n",
    "import pandas as pd\n",
    "\n",
    "#merge csvs : awk '(NR==1) || (FNR>1)' n*.csv > combined.csv PUIS awk '(NR==1) || (FNR>1)' combined*.csv > final_merged.csv\n",
    "\n",
    "commune_geo = \"Communes_IDF.json\"\n",
    "m = folium.Map(location=[48.8626304852,2.33629344655])\n",
    "\n",
    "commune_data = pd.read_csv(\"./csv/merged.csv\", sep=';')\n",
    "#commune_data['Access'] = np.log10(commune_data['Access']+1)\n"
   ]
  },
  {
   "cell_type": "code",
   "execution_count": 17,
   "metadata": {},
   "outputs": [
    {
     "output_type": "execute_result",
     "data": {
      "text/plain": [
       "      Code_INSEE                Name                        Coord   Access  \\\n",
       "13         94055  ORMESSON SUR MARNE  48.7854562744,2.53924214317  4842.33   \n",
       "166        94055  ORMESSON SUR MARNE  48.7854562744,2.53924214317  4725.20   \n",
       "319        94055  ORMESSON SUR MARNE  48.7854562744,2.53924214317  4705.00   \n",
       "472        94055  ORMESSON SUR MARNE  48.7854562744,2.53924214317  4717.33   \n",
       "625        94055  ORMESSON SUR MARNE  48.7854562744,2.53924214317  4812.93   \n",
       "778        94055  ORMESSON SUR MARNE  48.7854562744,2.53924214317  4678.93   \n",
       "931        94055  ORMESSON SUR MARNE  48.7854562744,2.53924214317  4671.00   \n",
       "1084       94055  ORMESSON SUR MARNE  48.7854562744,2.53924214317  4762.73   \n",
       "1237       94055  ORMESSON SUR MARNE  48.7854562744,2.53924214317  4649.93   \n",
       "1390       94055  ORMESSON SUR MARNE  48.7854562744,2.53924214317  4761.33   \n",
       "1543       94055  ORMESSON SUR MARNE  48.7854562744,2.53924214317  4705.40   \n",
       "1696       94055  ORMESSON SUR MARNE  48.7854562744,2.53924214317  4651.93   \n",
       "\n",
       "                  time  \n",
       "13    03-08-2021 06:00  \n",
       "166   03-08-2021 06:10  \n",
       "319   03-08-2021 07:40  \n",
       "472   03-08-2021 07:50  \n",
       "625   03-08-2021 06:20  \n",
       "778   03-08-2021 06:30  \n",
       "931   03-08-2021 06:40  \n",
       "1084  03-08-2021 06:50  \n",
       "1237  03-08-2021 07:00  \n",
       "1390  03-08-2021 07:10  \n",
       "1543  03-08-2021 07:20  \n",
       "1696  03-08-2021 07:30  "
      ],
      "text/html": "<div>\n<style scoped>\n    .dataframe tbody tr th:only-of-type {\n        vertical-align: middle;\n    }\n\n    .dataframe tbody tr th {\n        vertical-align: top;\n    }\n\n    .dataframe thead th {\n        text-align: right;\n    }\n</style>\n<table border=\"1\" class=\"dataframe\">\n  <thead>\n    <tr style=\"text-align: right;\">\n      <th></th>\n      <th>Code_INSEE</th>\n      <th>Name</th>\n      <th>Coord</th>\n      <th>Access</th>\n      <th>time</th>\n    </tr>\n  </thead>\n  <tbody>\n    <tr>\n      <th>13</th>\n      <td>94055</td>\n      <td>ORMESSON SUR MARNE</td>\n      <td>48.7854562744,2.53924214317</td>\n      <td>4842.33</td>\n      <td>03-08-2021 06:00</td>\n    </tr>\n    <tr>\n      <th>166</th>\n      <td>94055</td>\n      <td>ORMESSON SUR MARNE</td>\n      <td>48.7854562744,2.53924214317</td>\n      <td>4725.20</td>\n      <td>03-08-2021 06:10</td>\n    </tr>\n    <tr>\n      <th>319</th>\n      <td>94055</td>\n      <td>ORMESSON SUR MARNE</td>\n      <td>48.7854562744,2.53924214317</td>\n      <td>4705.00</td>\n      <td>03-08-2021 07:40</td>\n    </tr>\n    <tr>\n      <th>472</th>\n      <td>94055</td>\n      <td>ORMESSON SUR MARNE</td>\n      <td>48.7854562744,2.53924214317</td>\n      <td>4717.33</td>\n      <td>03-08-2021 07:50</td>\n    </tr>\n    <tr>\n      <th>625</th>\n      <td>94055</td>\n      <td>ORMESSON SUR MARNE</td>\n      <td>48.7854562744,2.53924214317</td>\n      <td>4812.93</td>\n      <td>03-08-2021 06:20</td>\n    </tr>\n    <tr>\n      <th>778</th>\n      <td>94055</td>\n      <td>ORMESSON SUR MARNE</td>\n      <td>48.7854562744,2.53924214317</td>\n      <td>4678.93</td>\n      <td>03-08-2021 06:30</td>\n    </tr>\n    <tr>\n      <th>931</th>\n      <td>94055</td>\n      <td>ORMESSON SUR MARNE</td>\n      <td>48.7854562744,2.53924214317</td>\n      <td>4671.00</td>\n      <td>03-08-2021 06:40</td>\n    </tr>\n    <tr>\n      <th>1084</th>\n      <td>94055</td>\n      <td>ORMESSON SUR MARNE</td>\n      <td>48.7854562744,2.53924214317</td>\n      <td>4762.73</td>\n      <td>03-08-2021 06:50</td>\n    </tr>\n    <tr>\n      <th>1237</th>\n      <td>94055</td>\n      <td>ORMESSON SUR MARNE</td>\n      <td>48.7854562744,2.53924214317</td>\n      <td>4649.93</td>\n      <td>03-08-2021 07:00</td>\n    </tr>\n    <tr>\n      <th>1390</th>\n      <td>94055</td>\n      <td>ORMESSON SUR MARNE</td>\n      <td>48.7854562744,2.53924214317</td>\n      <td>4761.33</td>\n      <td>03-08-2021 07:10</td>\n    </tr>\n    <tr>\n      <th>1543</th>\n      <td>94055</td>\n      <td>ORMESSON SUR MARNE</td>\n      <td>48.7854562744,2.53924214317</td>\n      <td>4705.40</td>\n      <td>03-08-2021 07:20</td>\n    </tr>\n    <tr>\n      <th>1696</th>\n      <td>94055</td>\n      <td>ORMESSON SUR MARNE</td>\n      <td>48.7854562744,2.53924214317</td>\n      <td>4651.93</td>\n      <td>03-08-2021 07:30</td>\n    </tr>\n  </tbody>\n</table>\n</div>"
     },
     "metadata": {},
     "execution_count": 17
    }
   ],
   "source": [
    "region_list = commune_data['Name'].unique().tolist()\n",
    "commune_data[commune_data['Name']==region_list[13]]"
   ]
  },
  {
   "cell_type": "code",
   "execution_count": 18,
   "metadata": {
    "tags": []
   },
   "outputs": [
    {
     "output_type": "stream",
     "name": "stderr",
     "text": [
      "<ipython-input-18-1cdc8e863b35>:3: SettingWithCopyWarning: \nA value is trying to be set on a copy of a slice from a DataFrame\n\nSee the caveats in the documentation: https://pandas.pydata.org/pandas-docs/stable/user_guide/indexing.html#returning-a-view-versus-a-copy\n  commune_data['date_sec'][k]=datetime.datetime.strptime(commune_data['time'][k], \"%m-%d-%Y %H:%M\").timestamp()\n"
     ]
    }
   ],
   "source": [
    "commune_data['date_sec'] = pd.to_datetime(commune_data['time'], format='%m-%d-%Y %H:%M', errors='coerce').values.astype(int) // 10**6\n",
    "for k in range(len(commune_data['date_sec'])):\n",
    "    commune_data['date_sec'][k]=datetime.datetime.strptime(commune_data['time'][k], \"%m-%d-%Y %H:%M\").timestamp()\n",
    "\n",
    "max_colour = max(commune_data['Access'])\n",
    "min_colour = min(commune_data['Access'])\n",
    "cmap = cm.linear.YlOrRd_09.scale(min_colour, max_colour)\n",
    "commune_data['colour'] = commune_data['Access'].map(cmap)\n",
    "\n",
    "region_list = commune_data['Name'].unique().tolist()\n",
    "region_idx = range(len(region_list))\n",
    "\n",
    "style_dict = {}\n",
    "for i in region_idx:\n",
    "    region = region_list[i]\n",
    "    result = commune_data[commune_data['Name'] == region]\n",
    "    inner_dict = {}\n",
    "    for _, r in result.iterrows():\n",
    "        inner_dict[r['date_sec']] = {'color': r['colour'], 'opacity': 0.7}\n",
    "    style_dict[str(i)] = inner_dict"
   ]
  },
  {
   "cell_type": "code",
   "execution_count": 19,
   "metadata": {},
   "outputs": [
    {
     "output_type": "execute_result",
     "data": {
      "text/plain": [
       "      Code_INSEE                Name                        Coord   Access  \\\n",
       "0          75119            PARIS 19   48.886868623,2.38469432787  3291.53   \n",
       "1          92046            MALAKOFF  48.8169695977,2.29693599517  4207.93   \n",
       "2          93074            VAUJOURS   48.9324772605,2.5810025704  5266.93   \n",
       "3          94071        SUCY EN BRIE   48.7656456593,2.5330560803  4482.60   \n",
       "4          75115            PARIS 15  48.8401554186,2.29355937244  3842.07   \n",
       "...          ...                 ...                          ...      ...   \n",
       "1831       93049   NEUILLY PLAISANCE  48.8643287852,2.51040249898  4264.67   \n",
       "1832       94034             FRESNES  48.7571343016,2.32612839743  4315.08   \n",
       "1833       92004  ASNIERES SUR SEINE   48.9153530123,2.2880384663  4196.00   \n",
       "1834       93027        LA COURNEUVE  48.9322569546,2.39978064801  3922.50   \n",
       "1835       94070             SANTENY  48.7356177142,2.57637480242  6336.67   \n",
       "\n",
       "                  time    date_sec     colour  \n",
       "0     03-08-2021 06:00  1615183200  #fe923eff  \n",
       "1     03-08-2021 06:00  1615183200  #fd512aff  \n",
       "2     03-08-2021 06:00  1615183200  #dc141eff  \n",
       "3     03-08-2021 06:00  1615183200  #f53f26ff  \n",
       "4     03-08-2021 06:00  1615183200  #fd6c32ff  \n",
       "...                ...         ...        ...  \n",
       "1831  03-08-2021 07:30  1615188600  #fc4d29ff  \n",
       "1832  03-08-2021 07:30  1615188600  #fa4a29ff  \n",
       "1833  03-08-2021 07:30  1615188600  #fd522bff  \n",
       "1834  03-08-2021 07:30  1615188600  #fd6631ff  \n",
       "1835  03-08-2021 07:30  1615188600  #a10026ff  \n",
       "\n",
       "[1836 rows x 7 columns]"
      ],
      "text/html": "<div>\n<style scoped>\n    .dataframe tbody tr th:only-of-type {\n        vertical-align: middle;\n    }\n\n    .dataframe tbody tr th {\n        vertical-align: top;\n    }\n\n    .dataframe thead th {\n        text-align: right;\n    }\n</style>\n<table border=\"1\" class=\"dataframe\">\n  <thead>\n    <tr style=\"text-align: right;\">\n      <th></th>\n      <th>Code_INSEE</th>\n      <th>Name</th>\n      <th>Coord</th>\n      <th>Access</th>\n      <th>time</th>\n      <th>date_sec</th>\n      <th>colour</th>\n    </tr>\n  </thead>\n  <tbody>\n    <tr>\n      <th>0</th>\n      <td>75119</td>\n      <td>PARIS 19</td>\n      <td>48.886868623,2.38469432787</td>\n      <td>3291.53</td>\n      <td>03-08-2021 06:00</td>\n      <td>1615183200</td>\n      <td>#fe923eff</td>\n    </tr>\n    <tr>\n      <th>1</th>\n      <td>92046</td>\n      <td>MALAKOFF</td>\n      <td>48.8169695977,2.29693599517</td>\n      <td>4207.93</td>\n      <td>03-08-2021 06:00</td>\n      <td>1615183200</td>\n      <td>#fd512aff</td>\n    </tr>\n    <tr>\n      <th>2</th>\n      <td>93074</td>\n      <td>VAUJOURS</td>\n      <td>48.9324772605,2.5810025704</td>\n      <td>5266.93</td>\n      <td>03-08-2021 06:00</td>\n      <td>1615183200</td>\n      <td>#dc141eff</td>\n    </tr>\n    <tr>\n      <th>3</th>\n      <td>94071</td>\n      <td>SUCY EN BRIE</td>\n      <td>48.7656456593,2.5330560803</td>\n      <td>4482.60</td>\n      <td>03-08-2021 06:00</td>\n      <td>1615183200</td>\n      <td>#f53f26ff</td>\n    </tr>\n    <tr>\n      <th>4</th>\n      <td>75115</td>\n      <td>PARIS 15</td>\n      <td>48.8401554186,2.29355937244</td>\n      <td>3842.07</td>\n      <td>03-08-2021 06:00</td>\n      <td>1615183200</td>\n      <td>#fd6c32ff</td>\n    </tr>\n    <tr>\n      <th>...</th>\n      <td>...</td>\n      <td>...</td>\n      <td>...</td>\n      <td>...</td>\n      <td>...</td>\n      <td>...</td>\n      <td>...</td>\n    </tr>\n    <tr>\n      <th>1831</th>\n      <td>93049</td>\n      <td>NEUILLY PLAISANCE</td>\n      <td>48.8643287852,2.51040249898</td>\n      <td>4264.67</td>\n      <td>03-08-2021 07:30</td>\n      <td>1615188600</td>\n      <td>#fc4d29ff</td>\n    </tr>\n    <tr>\n      <th>1832</th>\n      <td>94034</td>\n      <td>FRESNES</td>\n      <td>48.7571343016,2.32612839743</td>\n      <td>4315.08</td>\n      <td>03-08-2021 07:30</td>\n      <td>1615188600</td>\n      <td>#fa4a29ff</td>\n    </tr>\n    <tr>\n      <th>1833</th>\n      <td>92004</td>\n      <td>ASNIERES SUR SEINE</td>\n      <td>48.9153530123,2.2880384663</td>\n      <td>4196.00</td>\n      <td>03-08-2021 07:30</td>\n      <td>1615188600</td>\n      <td>#fd522bff</td>\n    </tr>\n    <tr>\n      <th>1834</th>\n      <td>93027</td>\n      <td>LA COURNEUVE</td>\n      <td>48.9322569546,2.39978064801</td>\n      <td>3922.50</td>\n      <td>03-08-2021 07:30</td>\n      <td>1615188600</td>\n      <td>#fd6631ff</td>\n    </tr>\n    <tr>\n      <th>1835</th>\n      <td>94070</td>\n      <td>SANTENY</td>\n      <td>48.7356177142,2.57637480242</td>\n      <td>6336.67</td>\n      <td>03-08-2021 07:30</td>\n      <td>1615188600</td>\n      <td>#a10026ff</td>\n    </tr>\n  </tbody>\n</table>\n<p>1836 rows × 7 columns</p>\n</div>"
     },
     "metadata": {},
     "execution_count": 19
    }
   ],
   "source": [
    "commune_data"
   ]
  },
  {
   "cell_type": "code",
   "execution_count": 20,
   "metadata": {},
   "outputs": [],
   "source": [
    "countries = gpd.read_file('destination_data.shp')\n",
    "regions_df = countries['geometry']\n",
    "regions_gdf = gpd.GeoDataFrame(regions_df)\n",
    "regions_gdf = regions_gdf.drop_duplicates().reset_index()\n",
    "\n",
    "\n",
    "slider_map = folium.Map(min_zoom=2, max_bounds=True,tiles='cartodbpositron', location=[48.8626304852,2.33629344655])\n",
    "\n",
    "_ = TimeSliderChoropleth(\n",
    "    data=regions_gdf.to_json(),\n",
    "    styledict=style_dict,\n",
    "\n",
    ").add_to(slider_map)\n",
    "\n",
    "_ = cmap.add_to(slider_map)\n",
    "cmap.caption = \"Accessibilité, s\"\n",
    "slider_map.save(outfile='./csv/TimeSliderChoropleth.html')"
   ]
  },
  {
   "cell_type": "code",
   "execution_count": 21,
   "metadata": {},
   "outputs": [
    {
     "output_type": "execute_result",
     "data": {
      "text/plain": [
       "'# Generates a gradient map based on the accessibility data\\n\\nimport folium\\nimport pandas as pd\\n\\n\\ncommune_geo = \"Communes_PC.json\"\\nm = folium.Map(location=[48.8626304852,2.33629344655])\\n\\ncommune_data = pd.read_csv(\"csv/final_merged.csv\", sep=\\';\\')\\n\\n\\nfolium.Choropleth(\\n    geo_data=commune_geo,\\n    name=\"choropleth\",\\n    data=commune_data,\\n    columns=[\"Code_INSEE\", \"Access\"],\\n    key_on=\"feature.properties.C_INSEE\",\\n    fill_color=\"YlGn\",\\n    fill_opacity=0.7,\\n    line_opacity=0.2,\\n    legend_name=\"Accessibility, s\",\\n).add_to(m)\\n\\nfolium.LayerControl().add_to(m)\\n\\nm.save(\"map.html\")\\nm\\n\\n\\n'"
      ]
     },
     "metadata": {},
     "execution_count": 21
    }
   ],
   "source": [
    "'''# Generates a gradient map based on the accessibility data\n",
    "\n",
    "import folium\n",
    "import pandas as pd\n",
    "\n",
    "\n",
    "commune_geo = \"Communes_PC.json\"\n",
    "m = folium.Map(location=[48.8626304852,2.33629344655])\n",
    "\n",
    "commune_data = pd.read_csv(\"csv/final_merged.csv\", sep=';')\n",
    "\n",
    "\n",
    "folium.Choropleth(\n",
    "    geo_data=commune_geo,\n",
    "    name=\"choropleth\",\n",
    "    data=commune_data,\n",
    "    columns=[\"Code_INSEE\", \"Access\"],\n",
    "    key_on=\"feature.properties.C_INSEE\",\n",
    "    fill_color=\"YlGn\",\n",
    "    fill_opacity=0.7,\n",
    "    line_opacity=0.2,\n",
    "    legend_name=\"Accessibility, s\",\n",
    ").add_to(m)\n",
    "\n",
    "folium.LayerControl().add_to(m)\n",
    "\n",
    "m.save(\"map.html\")\n",
    "m\n",
    "\n",
    "\n",
    "'''\n",
    "\n"
   ]
  }
 ],
 "metadata": {
  "kernelspec": {
   "name": "python3",
   "display_name": "Python 3",
   "language": "python"
  },
  "language_info": {
   "codemirror_mode": {
    "name": "ipython",
    "version": 3
   },
   "file_extension": ".py",
   "mimetype": "text/x-python",
   "name": "python",
   "nbconvert_exporter": "python",
   "pygments_lexer": "ipython3",
   "version": "3.8.5"
  }
 },
 "nbformat": 4,
 "nbformat_minor": 4
}